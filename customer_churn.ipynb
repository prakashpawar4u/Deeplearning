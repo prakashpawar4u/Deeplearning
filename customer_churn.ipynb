{
 "cells": [
  {
   "cell_type": "code",
   "execution_count": 1,
   "id": "727b32a6",
   "metadata": {
    "_cell_guid": "b1076dfc-b9ad-4769-8c92-a6c4dae69d19",
    "_uuid": "8f2839f25d086af736a60e9eeb907d3b93b6e0e5",
    "execution": {
     "iopub.execute_input": "2024-05-01T17:09:23.870020Z",
     "iopub.status.busy": "2024-05-01T17:09:23.868106Z",
     "iopub.status.idle": "2024-05-01T17:09:23.886368Z",
     "shell.execute_reply": "2024-05-01T17:09:23.886942Z",
     "shell.execute_reply.started": "2024-05-01T17:01:38.668429Z"
    },
    "papermill": {
     "duration": 0.057237,
     "end_time": "2024-05-01T17:09:23.887285",
     "exception": false,
     "start_time": "2024-05-01T17:09:23.830048",
     "status": "completed"
    },
    "tags": []
   },
   "outputs": [
    {
     "name": "stdout",
     "output_type": "stream",
     "text": [
      "/kaggle/input/credit-card-customer-churn-prediction/Churn_Modelling.csv\n"
     ]
    }
   ],
   "source": [
    "# This Python 3 environment comes with many helpful analytics libraries installed\n",
    "# It is defined by the kaggle/python Docker image: https://github.com/kaggle/docker-python\n",
    "# For example, here's several helpful packages to load\n",
    "\n",
    "import numpy as np # linear algebra\n",
    "import pandas as pd # data processing, CSV file I/O (e.g. pd.read_csv)\n",
    "\n",
    "# Input data files are available in the read-only \"../input/\" directory\n",
    "# For example, running this (by clicking run or pressing Shift+Enter) will list all files under the input directory\n",
    "\n",
    "import os\n",
    "for dirname, _, filenames in os.walk('/kaggle/input'):\n",
    "    for filename in filenames:\n",
    "        print(os.path.join(dirname, filename))\n",
    "\n",
    "# You can write up to 20GB to the current directory (/kaggle/working/) that gets preserved as output when you create a version using \"Save & Run All\" \n",
    "# You can also write temporary files to /kaggle/temp/, but they won't be saved outside of the current session"
   ]
  },
  {
   "cell_type": "code",
   "execution_count": 2,
   "id": "5e35cd25",
   "metadata": {
    "execution": {
     "iopub.execute_input": "2024-05-01T17:09:23.955792Z",
     "iopub.status.busy": "2024-05-01T17:09:23.954970Z",
     "iopub.status.idle": "2024-05-01T17:09:23.999818Z",
     "shell.execute_reply": "2024-05-01T17:09:23.999137Z",
     "shell.execute_reply.started": "2024-05-01T17:01:39.739442Z"
    },
    "papermill": {
     "duration": 0.079839,
     "end_time": "2024-05-01T17:09:23.999996",
     "exception": false,
     "start_time": "2024-05-01T17:09:23.920157",
     "status": "completed"
    },
    "tags": []
   },
   "outputs": [],
   "source": [
    "df = pd.read_csv('/kaggle/input/credit-card-customer-churn-prediction/Churn_Modelling.csv')"
   ]
  },
  {
   "cell_type": "code",
   "execution_count": 3,
   "id": "62218a2c",
   "metadata": {
    "execution": {
     "iopub.execute_input": "2024-05-01T17:09:24.074246Z",
     "iopub.status.busy": "2024-05-01T17:09:24.073091Z",
     "iopub.status.idle": "2024-05-01T17:09:24.091922Z",
     "shell.execute_reply": "2024-05-01T17:09:24.092474Z",
     "shell.execute_reply.started": "2024-05-01T17:01:42.248251Z"
    },
    "papermill": {
     "duration": 0.059634,
     "end_time": "2024-05-01T17:09:24.092675",
     "exception": false,
     "start_time": "2024-05-01T17:09:24.033041",
     "status": "completed"
    },
    "tags": []
   },
   "outputs": [
    {
     "data": {
      "text/html": [
       "<div>\n",
       "<style scoped>\n",
       "    .dataframe tbody tr th:only-of-type {\n",
       "        vertical-align: middle;\n",
       "    }\n",
       "\n",
       "    .dataframe tbody tr th {\n",
       "        vertical-align: top;\n",
       "    }\n",
       "\n",
       "    .dataframe thead th {\n",
       "        text-align: right;\n",
       "    }\n",
       "</style>\n",
       "<table border=\"1\" class=\"dataframe\">\n",
       "  <thead>\n",
       "    <tr style=\"text-align: right;\">\n",
       "      <th></th>\n",
       "      <th>RowNumber</th>\n",
       "      <th>CustomerId</th>\n",
       "      <th>Surname</th>\n",
       "      <th>CreditScore</th>\n",
       "      <th>Geography</th>\n",
       "      <th>Gender</th>\n",
       "      <th>Age</th>\n",
       "      <th>Tenure</th>\n",
       "      <th>Balance</th>\n",
       "      <th>NumOfProducts</th>\n",
       "      <th>HasCrCard</th>\n",
       "      <th>IsActiveMember</th>\n",
       "      <th>EstimatedSalary</th>\n",
       "      <th>Exited</th>\n",
       "    </tr>\n",
       "  </thead>\n",
       "  <tbody>\n",
       "    <tr>\n",
       "      <th>0</th>\n",
       "      <td>1</td>\n",
       "      <td>15634602</td>\n",
       "      <td>Hargrave</td>\n",
       "      <td>619</td>\n",
       "      <td>France</td>\n",
       "      <td>Female</td>\n",
       "      <td>42</td>\n",
       "      <td>2</td>\n",
       "      <td>0.00</td>\n",
       "      <td>1</td>\n",
       "      <td>1</td>\n",
       "      <td>1</td>\n",
       "      <td>101348.88</td>\n",
       "      <td>1</td>\n",
       "    </tr>\n",
       "    <tr>\n",
       "      <th>1</th>\n",
       "      <td>2</td>\n",
       "      <td>15647311</td>\n",
       "      <td>Hill</td>\n",
       "      <td>608</td>\n",
       "      <td>Spain</td>\n",
       "      <td>Female</td>\n",
       "      <td>41</td>\n",
       "      <td>1</td>\n",
       "      <td>83807.86</td>\n",
       "      <td>1</td>\n",
       "      <td>0</td>\n",
       "      <td>1</td>\n",
       "      <td>112542.58</td>\n",
       "      <td>0</td>\n",
       "    </tr>\n",
       "    <tr>\n",
       "      <th>2</th>\n",
       "      <td>3</td>\n",
       "      <td>15619304</td>\n",
       "      <td>Onio</td>\n",
       "      <td>502</td>\n",
       "      <td>France</td>\n",
       "      <td>Female</td>\n",
       "      <td>42</td>\n",
       "      <td>8</td>\n",
       "      <td>159660.80</td>\n",
       "      <td>3</td>\n",
       "      <td>1</td>\n",
       "      <td>0</td>\n",
       "      <td>113931.57</td>\n",
       "      <td>1</td>\n",
       "    </tr>\n",
       "    <tr>\n",
       "      <th>3</th>\n",
       "      <td>4</td>\n",
       "      <td>15701354</td>\n",
       "      <td>Boni</td>\n",
       "      <td>699</td>\n",
       "      <td>France</td>\n",
       "      <td>Female</td>\n",
       "      <td>39</td>\n",
       "      <td>1</td>\n",
       "      <td>0.00</td>\n",
       "      <td>2</td>\n",
       "      <td>0</td>\n",
       "      <td>0</td>\n",
       "      <td>93826.63</td>\n",
       "      <td>0</td>\n",
       "    </tr>\n",
       "    <tr>\n",
       "      <th>4</th>\n",
       "      <td>5</td>\n",
       "      <td>15737888</td>\n",
       "      <td>Mitchell</td>\n",
       "      <td>850</td>\n",
       "      <td>Spain</td>\n",
       "      <td>Female</td>\n",
       "      <td>43</td>\n",
       "      <td>2</td>\n",
       "      <td>125510.82</td>\n",
       "      <td>1</td>\n",
       "      <td>1</td>\n",
       "      <td>1</td>\n",
       "      <td>79084.10</td>\n",
       "      <td>0</td>\n",
       "    </tr>\n",
       "  </tbody>\n",
       "</table>\n",
       "</div>"
      ],
      "text/plain": [
       "   RowNumber  CustomerId   Surname  CreditScore Geography  Gender  Age  \\\n",
       "0          1    15634602  Hargrave          619    France  Female   42   \n",
       "1          2    15647311      Hill          608     Spain  Female   41   \n",
       "2          3    15619304      Onio          502    France  Female   42   \n",
       "3          4    15701354      Boni          699    France  Female   39   \n",
       "4          5    15737888  Mitchell          850     Spain  Female   43   \n",
       "\n",
       "   Tenure    Balance  NumOfProducts  HasCrCard  IsActiveMember  \\\n",
       "0       2       0.00              1          1               1   \n",
       "1       1   83807.86              1          0               1   \n",
       "2       8  159660.80              3          1               0   \n",
       "3       1       0.00              2          0               0   \n",
       "4       2  125510.82              1          1               1   \n",
       "\n",
       "   EstimatedSalary  Exited  \n",
       "0        101348.88       1  \n",
       "1        112542.58       0  \n",
       "2        113931.57       1  \n",
       "3         93826.63       0  \n",
       "4         79084.10       0  "
      ]
     },
     "execution_count": 3,
     "metadata": {},
     "output_type": "execute_result"
    }
   ],
   "source": [
    "df.head()"
   ]
  },
  {
   "cell_type": "code",
   "execution_count": 4,
   "id": "8289da20",
   "metadata": {
    "execution": {
     "iopub.execute_input": "2024-05-01T17:09:24.167880Z",
     "iopub.status.busy": "2024-05-01T17:09:24.166599Z",
     "iopub.status.idle": "2024-05-01T17:09:24.187074Z",
     "shell.execute_reply": "2024-05-01T17:09:24.187603Z",
     "shell.execute_reply.started": "2024-05-01T17:01:43.553385Z"
    },
    "papermill": {
     "duration": 0.06298,
     "end_time": "2024-05-01T17:09:24.187805",
     "exception": false,
     "start_time": "2024-05-01T17:09:24.124825",
     "status": "completed"
    },
    "tags": []
   },
   "outputs": [
    {
     "name": "stdout",
     "output_type": "stream",
     "text": [
      "<class 'pandas.core.frame.DataFrame'>\n",
      "RangeIndex: 10000 entries, 0 to 9999\n",
      "Data columns (total 14 columns):\n",
      " #   Column           Non-Null Count  Dtype  \n",
      "---  ------           --------------  -----  \n",
      " 0   RowNumber        10000 non-null  int64  \n",
      " 1   CustomerId       10000 non-null  int64  \n",
      " 2   Surname          10000 non-null  object \n",
      " 3   CreditScore      10000 non-null  int64  \n",
      " 4   Geography        10000 non-null  object \n",
      " 5   Gender           10000 non-null  object \n",
      " 6   Age              10000 non-null  int64  \n",
      " 7   Tenure           10000 non-null  int64  \n",
      " 8   Balance          10000 non-null  float64\n",
      " 9   NumOfProducts    10000 non-null  int64  \n",
      " 10  HasCrCard        10000 non-null  int64  \n",
      " 11  IsActiveMember   10000 non-null  int64  \n",
      " 12  EstimatedSalary  10000 non-null  float64\n",
      " 13  Exited           10000 non-null  int64  \n",
      "dtypes: float64(2), int64(9), object(3)\n",
      "memory usage: 1.1+ MB\n"
     ]
    }
   ],
   "source": [
    "df.info()"
   ]
  },
  {
   "cell_type": "code",
   "execution_count": 5,
   "id": "e1b82918",
   "metadata": {
    "execution": {
     "iopub.execute_input": "2024-05-01T17:09:24.256396Z",
     "iopub.status.busy": "2024-05-01T17:09:24.255344Z",
     "iopub.status.idle": "2024-05-01T17:09:24.273342Z",
     "shell.execute_reply": "2024-05-01T17:09:24.274015Z",
     "shell.execute_reply.started": "2024-05-01T17:01:44.529769Z"
    },
    "papermill": {
     "duration": 0.054182,
     "end_time": "2024-05-01T17:09:24.274204",
     "exception": false,
     "start_time": "2024-05-01T17:09:24.220022",
     "status": "completed"
    },
    "tags": []
   },
   "outputs": [
    {
     "data": {
      "text/plain": [
       "0"
      ]
     },
     "execution_count": 5,
     "metadata": {},
     "output_type": "execute_result"
    }
   ],
   "source": [
    "df.duplicated().sum()"
   ]
  },
  {
   "cell_type": "code",
   "execution_count": 6,
   "id": "d351562c",
   "metadata": {
    "execution": {
     "iopub.execute_input": "2024-05-01T17:09:24.346843Z",
     "iopub.status.busy": "2024-05-01T17:09:24.345803Z",
     "iopub.status.idle": "2024-05-01T17:09:24.352960Z",
     "shell.execute_reply": "2024-05-01T17:09:24.353514Z",
     "shell.execute_reply.started": "2024-05-01T17:01:45.512966Z"
    },
    "papermill": {
     "duration": 0.044448,
     "end_time": "2024-05-01T17:09:24.353712",
     "exception": false,
     "start_time": "2024-05-01T17:09:24.309264",
     "status": "completed"
    },
    "tags": []
   },
   "outputs": [
    {
     "data": {
      "text/plain": [
       "0    7963\n",
       "1    2037\n",
       "Name: Exited, dtype: int64"
      ]
     },
     "execution_count": 6,
     "metadata": {},
     "output_type": "execute_result"
    }
   ],
   "source": [
    "df['Exited'].value_counts()"
   ]
  },
  {
   "cell_type": "code",
   "execution_count": 7,
   "id": "f86d2112",
   "metadata": {
    "execution": {
     "iopub.execute_input": "2024-05-01T17:09:24.426426Z",
     "iopub.status.busy": "2024-05-01T17:09:24.424981Z",
     "iopub.status.idle": "2024-05-01T17:09:24.433968Z",
     "shell.execute_reply": "2024-05-01T17:09:24.434599Z",
     "shell.execute_reply.started": "2024-05-01T17:01:46.446918Z"
    },
    "papermill": {
     "duration": 0.046865,
     "end_time": "2024-05-01T17:09:24.434791",
     "exception": false,
     "start_time": "2024-05-01T17:09:24.387926",
     "status": "completed"
    },
    "tags": []
   },
   "outputs": [
    {
     "data": {
      "text/plain": [
       "France     5014\n",
       "Germany    2509\n",
       "Spain      2477\n",
       "Name: Geography, dtype: int64"
      ]
     },
     "execution_count": 7,
     "metadata": {},
     "output_type": "execute_result"
    }
   ],
   "source": [
    "df['Geography'].value_counts()"
   ]
  },
  {
   "cell_type": "code",
   "execution_count": 8,
   "id": "6250e128",
   "metadata": {
    "execution": {
     "iopub.execute_input": "2024-05-01T17:09:24.512275Z",
     "iopub.status.busy": "2024-05-01T17:09:24.506810Z",
     "iopub.status.idle": "2024-05-01T17:09:24.515867Z",
     "shell.execute_reply": "2024-05-01T17:09:24.515233Z",
     "shell.execute_reply.started": "2024-05-01T17:01:47.462019Z"
    },
    "papermill": {
     "duration": 0.046386,
     "end_time": "2024-05-01T17:09:24.516035",
     "exception": false,
     "start_time": "2024-05-01T17:09:24.469649",
     "status": "completed"
    },
    "tags": []
   },
   "outputs": [
    {
     "data": {
      "text/plain": [
       "Male      5457\n",
       "Female    4543\n",
       "Name: Gender, dtype: int64"
      ]
     },
     "execution_count": 8,
     "metadata": {},
     "output_type": "execute_result"
    }
   ],
   "source": [
    "df['Gender'].value_counts()"
   ]
  },
  {
   "cell_type": "code",
   "execution_count": 9,
   "id": "c6913d2d",
   "metadata": {
    "execution": {
     "iopub.execute_input": "2024-05-01T17:09:24.589863Z",
     "iopub.status.busy": "2024-05-01T17:09:24.588805Z",
     "iopub.status.idle": "2024-05-01T17:09:24.595441Z",
     "shell.execute_reply": "2024-05-01T17:09:24.595959Z",
     "shell.execute_reply.started": "2024-05-01T17:01:48.551726Z"
    },
    "papermill": {
     "duration": 0.045357,
     "end_time": "2024-05-01T17:09:24.596163",
     "exception": false,
     "start_time": "2024-05-01T17:09:24.550806",
     "status": "completed"
    },
    "tags": []
   },
   "outputs": [
    {
     "data": {
      "text/plain": [
       "Index(['RowNumber', 'CustomerId', 'Surname', 'CreditScore', 'Geography',\n",
       "       'Gender', 'Age', 'Tenure', 'Balance', 'NumOfProducts', 'HasCrCard',\n",
       "       'IsActiveMember', 'EstimatedSalary', 'Exited'],\n",
       "      dtype='object')"
      ]
     },
     "execution_count": 9,
     "metadata": {},
     "output_type": "execute_result"
    }
   ],
   "source": [
    "df.columns"
   ]
  },
  {
   "cell_type": "code",
   "execution_count": 10,
   "id": "3781faf6",
   "metadata": {
    "execution": {
     "iopub.execute_input": "2024-05-01T17:09:24.668451Z",
     "iopub.status.busy": "2024-05-01T17:09:24.667747Z",
     "iopub.status.idle": "2024-05-01T17:09:24.675989Z",
     "shell.execute_reply": "2024-05-01T17:09:24.675124Z",
     "shell.execute_reply.started": "2024-05-01T17:01:51.968925Z"
    },
    "papermill": {
     "duration": 0.045755,
     "end_time": "2024-05-01T17:09:24.676259",
     "exception": false,
     "start_time": "2024-05-01T17:09:24.630504",
     "status": "completed"
    },
    "tags": []
   },
   "outputs": [],
   "source": [
    "df.drop(columns = ['RowNumber','CustomerId','Surname'],inplace=True)"
   ]
  },
  {
   "cell_type": "code",
   "execution_count": 11,
   "id": "0ca1b724",
   "metadata": {
    "execution": {
     "iopub.execute_input": "2024-05-01T17:09:24.752028Z",
     "iopub.status.busy": "2024-05-01T17:09:24.750957Z",
     "iopub.status.idle": "2024-05-01T17:09:24.754814Z",
     "shell.execute_reply": "2024-05-01T17:09:24.755385Z",
     "shell.execute_reply.started": "2024-05-01T17:01:54.020762Z"
    },
    "papermill": {
     "duration": 0.045126,
     "end_time": "2024-05-01T17:09:24.755589",
     "exception": false,
     "start_time": "2024-05-01T17:09:24.710463",
     "status": "completed"
    },
    "tags": []
   },
   "outputs": [
    {
     "data": {
      "text/plain": [
       "Index(['CreditScore', 'Geography', 'Gender', 'Age', 'Tenure', 'Balance',\n",
       "       'NumOfProducts', 'HasCrCard', 'IsActiveMember', 'EstimatedSalary',\n",
       "       'Exited'],\n",
       "      dtype='object')"
      ]
     },
     "execution_count": 11,
     "metadata": {},
     "output_type": "execute_result"
    }
   ],
   "source": [
    "df.columns"
   ]
  },
  {
   "cell_type": "code",
   "execution_count": 12,
   "id": "f62b648c",
   "metadata": {
    "execution": {
     "iopub.execute_input": "2024-05-01T17:09:24.842102Z",
     "iopub.status.busy": "2024-05-01T17:09:24.841067Z",
     "iopub.status.idle": "2024-05-01T17:09:24.845331Z",
     "shell.execute_reply": "2024-05-01T17:09:24.844778Z",
     "shell.execute_reply.started": "2024-05-01T17:01:55.325249Z"
    },
    "papermill": {
     "duration": 0.0541,
     "end_time": "2024-05-01T17:09:24.845480",
     "exception": false,
     "start_time": "2024-05-01T17:09:24.791380",
     "status": "completed"
    },
    "tags": []
   },
   "outputs": [
    {
     "data": {
      "text/html": [
       "<div>\n",
       "<style scoped>\n",
       "    .dataframe tbody tr th:only-of-type {\n",
       "        vertical-align: middle;\n",
       "    }\n",
       "\n",
       "    .dataframe tbody tr th {\n",
       "        vertical-align: top;\n",
       "    }\n",
       "\n",
       "    .dataframe thead th {\n",
       "        text-align: right;\n",
       "    }\n",
       "</style>\n",
       "<table border=\"1\" class=\"dataframe\">\n",
       "  <thead>\n",
       "    <tr style=\"text-align: right;\">\n",
       "      <th></th>\n",
       "      <th>CreditScore</th>\n",
       "      <th>Geography</th>\n",
       "      <th>Gender</th>\n",
       "      <th>Age</th>\n",
       "      <th>Tenure</th>\n",
       "      <th>Balance</th>\n",
       "      <th>NumOfProducts</th>\n",
       "      <th>HasCrCard</th>\n",
       "      <th>IsActiveMember</th>\n",
       "      <th>EstimatedSalary</th>\n",
       "      <th>Exited</th>\n",
       "    </tr>\n",
       "  </thead>\n",
       "  <tbody>\n",
       "    <tr>\n",
       "      <th>0</th>\n",
       "      <td>619</td>\n",
       "      <td>France</td>\n",
       "      <td>Female</td>\n",
       "      <td>42</td>\n",
       "      <td>2</td>\n",
       "      <td>0.00</td>\n",
       "      <td>1</td>\n",
       "      <td>1</td>\n",
       "      <td>1</td>\n",
       "      <td>101348.88</td>\n",
       "      <td>1</td>\n",
       "    </tr>\n",
       "    <tr>\n",
       "      <th>1</th>\n",
       "      <td>608</td>\n",
       "      <td>Spain</td>\n",
       "      <td>Female</td>\n",
       "      <td>41</td>\n",
       "      <td>1</td>\n",
       "      <td>83807.86</td>\n",
       "      <td>1</td>\n",
       "      <td>0</td>\n",
       "      <td>1</td>\n",
       "      <td>112542.58</td>\n",
       "      <td>0</td>\n",
       "    </tr>\n",
       "    <tr>\n",
       "      <th>2</th>\n",
       "      <td>502</td>\n",
       "      <td>France</td>\n",
       "      <td>Female</td>\n",
       "      <td>42</td>\n",
       "      <td>8</td>\n",
       "      <td>159660.80</td>\n",
       "      <td>3</td>\n",
       "      <td>1</td>\n",
       "      <td>0</td>\n",
       "      <td>113931.57</td>\n",
       "      <td>1</td>\n",
       "    </tr>\n",
       "    <tr>\n",
       "      <th>3</th>\n",
       "      <td>699</td>\n",
       "      <td>France</td>\n",
       "      <td>Female</td>\n",
       "      <td>39</td>\n",
       "      <td>1</td>\n",
       "      <td>0.00</td>\n",
       "      <td>2</td>\n",
       "      <td>0</td>\n",
       "      <td>0</td>\n",
       "      <td>93826.63</td>\n",
       "      <td>0</td>\n",
       "    </tr>\n",
       "    <tr>\n",
       "      <th>4</th>\n",
       "      <td>850</td>\n",
       "      <td>Spain</td>\n",
       "      <td>Female</td>\n",
       "      <td>43</td>\n",
       "      <td>2</td>\n",
       "      <td>125510.82</td>\n",
       "      <td>1</td>\n",
       "      <td>1</td>\n",
       "      <td>1</td>\n",
       "      <td>79084.10</td>\n",
       "      <td>0</td>\n",
       "    </tr>\n",
       "  </tbody>\n",
       "</table>\n",
       "</div>"
      ],
      "text/plain": [
       "   CreditScore Geography  Gender  Age  Tenure    Balance  NumOfProducts  \\\n",
       "0          619    France  Female   42       2       0.00              1   \n",
       "1          608     Spain  Female   41       1   83807.86              1   \n",
       "2          502    France  Female   42       8  159660.80              3   \n",
       "3          699    France  Female   39       1       0.00              2   \n",
       "4          850     Spain  Female   43       2  125510.82              1   \n",
       "\n",
       "   HasCrCard  IsActiveMember  EstimatedSalary  Exited  \n",
       "0          1               1        101348.88       1  \n",
       "1          0               1        112542.58       0  \n",
       "2          1               0        113931.57       1  \n",
       "3          0               0         93826.63       0  \n",
       "4          1               1         79084.10       0  "
      ]
     },
     "execution_count": 12,
     "metadata": {},
     "output_type": "execute_result"
    }
   ],
   "source": [
    "df.head()"
   ]
  },
  {
   "cell_type": "code",
   "execution_count": 13,
   "id": "f5d85b0d",
   "metadata": {
    "execution": {
     "iopub.execute_input": "2024-05-01T17:09:24.923963Z",
     "iopub.status.busy": "2024-05-01T17:09:24.918692Z",
     "iopub.status.idle": "2024-05-01T17:09:24.932626Z",
     "shell.execute_reply": "2024-05-01T17:09:24.933207Z",
     "shell.execute_reply.started": "2024-05-01T17:01:56.187991Z"
    },
    "papermill": {
     "duration": 0.052534,
     "end_time": "2024-05-01T17:09:24.933417",
     "exception": false,
     "start_time": "2024-05-01T17:09:24.880883",
     "status": "completed"
    },
    "tags": []
   },
   "outputs": [],
   "source": [
    "df = pd.get_dummies(df,columns=['Geography','Gender'],drop_first=True)"
   ]
  },
  {
   "cell_type": "code",
   "execution_count": 14,
   "id": "7792811f",
   "metadata": {
    "execution": {
     "iopub.execute_input": "2024-05-01T17:09:25.013406Z",
     "iopub.status.busy": "2024-05-01T17:09:25.012682Z",
     "iopub.status.idle": "2024-05-01T17:09:25.024236Z",
     "shell.execute_reply": "2024-05-01T17:09:25.024800Z",
     "shell.execute_reply.started": "2024-05-01T17:01:57.068867Z"
    },
    "papermill": {
     "duration": 0.054519,
     "end_time": "2024-05-01T17:09:25.024991",
     "exception": false,
     "start_time": "2024-05-01T17:09:24.970472",
     "status": "completed"
    },
    "tags": []
   },
   "outputs": [
    {
     "data": {
      "text/html": [
       "<div>\n",
       "<style scoped>\n",
       "    .dataframe tbody tr th:only-of-type {\n",
       "        vertical-align: middle;\n",
       "    }\n",
       "\n",
       "    .dataframe tbody tr th {\n",
       "        vertical-align: top;\n",
       "    }\n",
       "\n",
       "    .dataframe thead th {\n",
       "        text-align: right;\n",
       "    }\n",
       "</style>\n",
       "<table border=\"1\" class=\"dataframe\">\n",
       "  <thead>\n",
       "    <tr style=\"text-align: right;\">\n",
       "      <th></th>\n",
       "      <th>CreditScore</th>\n",
       "      <th>Age</th>\n",
       "      <th>Tenure</th>\n",
       "      <th>Balance</th>\n",
       "      <th>NumOfProducts</th>\n",
       "      <th>HasCrCard</th>\n",
       "      <th>IsActiveMember</th>\n",
       "      <th>EstimatedSalary</th>\n",
       "      <th>Exited</th>\n",
       "      <th>Geography_Germany</th>\n",
       "      <th>Geography_Spain</th>\n",
       "      <th>Gender_Male</th>\n",
       "    </tr>\n",
       "  </thead>\n",
       "  <tbody>\n",
       "    <tr>\n",
       "      <th>0</th>\n",
       "      <td>619</td>\n",
       "      <td>42</td>\n",
       "      <td>2</td>\n",
       "      <td>0.00</td>\n",
       "      <td>1</td>\n",
       "      <td>1</td>\n",
       "      <td>1</td>\n",
       "      <td>101348.88</td>\n",
       "      <td>1</td>\n",
       "      <td>0</td>\n",
       "      <td>0</td>\n",
       "      <td>0</td>\n",
       "    </tr>\n",
       "    <tr>\n",
       "      <th>1</th>\n",
       "      <td>608</td>\n",
       "      <td>41</td>\n",
       "      <td>1</td>\n",
       "      <td>83807.86</td>\n",
       "      <td>1</td>\n",
       "      <td>0</td>\n",
       "      <td>1</td>\n",
       "      <td>112542.58</td>\n",
       "      <td>0</td>\n",
       "      <td>0</td>\n",
       "      <td>1</td>\n",
       "      <td>0</td>\n",
       "    </tr>\n",
       "    <tr>\n",
       "      <th>2</th>\n",
       "      <td>502</td>\n",
       "      <td>42</td>\n",
       "      <td>8</td>\n",
       "      <td>159660.80</td>\n",
       "      <td>3</td>\n",
       "      <td>1</td>\n",
       "      <td>0</td>\n",
       "      <td>113931.57</td>\n",
       "      <td>1</td>\n",
       "      <td>0</td>\n",
       "      <td>0</td>\n",
       "      <td>0</td>\n",
       "    </tr>\n",
       "    <tr>\n",
       "      <th>3</th>\n",
       "      <td>699</td>\n",
       "      <td>39</td>\n",
       "      <td>1</td>\n",
       "      <td>0.00</td>\n",
       "      <td>2</td>\n",
       "      <td>0</td>\n",
       "      <td>0</td>\n",
       "      <td>93826.63</td>\n",
       "      <td>0</td>\n",
       "      <td>0</td>\n",
       "      <td>0</td>\n",
       "      <td>0</td>\n",
       "    </tr>\n",
       "    <tr>\n",
       "      <th>4</th>\n",
       "      <td>850</td>\n",
       "      <td>43</td>\n",
       "      <td>2</td>\n",
       "      <td>125510.82</td>\n",
       "      <td>1</td>\n",
       "      <td>1</td>\n",
       "      <td>1</td>\n",
       "      <td>79084.10</td>\n",
       "      <td>0</td>\n",
       "      <td>0</td>\n",
       "      <td>1</td>\n",
       "      <td>0</td>\n",
       "    </tr>\n",
       "  </tbody>\n",
       "</table>\n",
       "</div>"
      ],
      "text/plain": [
       "   CreditScore  Age  Tenure    Balance  NumOfProducts  HasCrCard  \\\n",
       "0          619   42       2       0.00              1          1   \n",
       "1          608   41       1   83807.86              1          0   \n",
       "2          502   42       8  159660.80              3          1   \n",
       "3          699   39       1       0.00              2          0   \n",
       "4          850   43       2  125510.82              1          1   \n",
       "\n",
       "   IsActiveMember  EstimatedSalary  Exited  Geography_Germany  \\\n",
       "0               1        101348.88       1                  0   \n",
       "1               1        112542.58       0                  0   \n",
       "2               0        113931.57       1                  0   \n",
       "3               0         93826.63       0                  0   \n",
       "4               1         79084.10       0                  0   \n",
       "\n",
       "   Geography_Spain  Gender_Male  \n",
       "0                0            0  \n",
       "1                1            0  \n",
       "2                0            0  \n",
       "3                0            0  \n",
       "4                1            0  "
      ]
     },
     "execution_count": 14,
     "metadata": {},
     "output_type": "execute_result"
    }
   ],
   "source": [
    "df.head()"
   ]
  },
  {
   "cell_type": "code",
   "execution_count": 15,
   "id": "a31b3e8f",
   "metadata": {
    "execution": {
     "iopub.execute_input": "2024-05-01T17:09:25.100689Z",
     "iopub.status.busy": "2024-05-01T17:09:25.099819Z",
     "iopub.status.idle": "2024-05-01T17:09:26.189429Z",
     "shell.execute_reply": "2024-05-01T17:09:26.188823Z",
     "shell.execute_reply.started": "2024-05-01T17:01:57.909882Z"
    },
    "papermill": {
     "duration": 1.128776,
     "end_time": "2024-05-01T17:09:26.189594",
     "exception": false,
     "start_time": "2024-05-01T17:09:25.060818",
     "status": "completed"
    },
    "tags": []
   },
   "outputs": [],
   "source": [
    "X = df.drop(columns=['Exited'])\n",
    "y = df['Exited']\n",
    "\n",
    "from sklearn.model_selection import train_test_split\n",
    "X_train,X_test,y_train,y_test = train_test_split(X,y,test_size=0.2,random_state=0)"
   ]
  },
  {
   "cell_type": "code",
   "execution_count": 16,
   "id": "fd6215dd",
   "metadata": {
    "execution": {
     "iopub.execute_input": "2024-05-01T17:09:26.266876Z",
     "iopub.status.busy": "2024-05-01T17:09:26.266109Z",
     "iopub.status.idle": "2024-05-01T17:09:26.270032Z",
     "shell.execute_reply": "2024-05-01T17:09:26.269471Z",
     "shell.execute_reply.started": "2024-05-01T17:01:59.352260Z"
    },
    "papermill": {
     "duration": 0.044907,
     "end_time": "2024-05-01T17:09:26.270187",
     "exception": false,
     "start_time": "2024-05-01T17:09:26.225280",
     "status": "completed"
    },
    "tags": []
   },
   "outputs": [
    {
     "data": {
      "text/plain": [
       "(8000, 11)"
      ]
     },
     "execution_count": 16,
     "metadata": {},
     "output_type": "execute_result"
    }
   ],
   "source": [
    "X_train.shape"
   ]
  },
  {
   "cell_type": "code",
   "execution_count": 17,
   "id": "0ac22ef0",
   "metadata": {
    "execution": {
     "iopub.execute_input": "2024-05-01T17:09:26.352736Z",
     "iopub.status.busy": "2024-05-01T17:09:26.351818Z",
     "iopub.status.idle": "2024-05-01T17:09:26.355181Z",
     "shell.execute_reply": "2024-05-01T17:09:26.355704Z",
     "shell.execute_reply.started": "2024-05-01T17:02:00.253271Z"
    },
    "papermill": {
     "duration": 0.048128,
     "end_time": "2024-05-01T17:09:26.355882",
     "exception": false,
     "start_time": "2024-05-01T17:09:26.307754",
     "status": "completed"
    },
    "tags": []
   },
   "outputs": [
    {
     "data": {
      "text/plain": [
       "0       1\n",
       "1       0\n",
       "2       1\n",
       "3       0\n",
       "4       0\n",
       "       ..\n",
       "9995    0\n",
       "9996    0\n",
       "9997    1\n",
       "9998    1\n",
       "9999    0\n",
       "Name: Exited, Length: 10000, dtype: int64"
      ]
     },
     "execution_count": 17,
     "metadata": {},
     "output_type": "execute_result"
    }
   ],
   "source": [
    "y"
   ]
  },
  {
   "cell_type": "code",
   "execution_count": 18,
   "id": "ee8e8689",
   "metadata": {
    "execution": {
     "iopub.execute_input": "2024-05-01T17:09:26.438853Z",
     "iopub.status.busy": "2024-05-01T17:09:26.438070Z",
     "iopub.status.idle": "2024-05-01T17:09:26.448142Z",
     "shell.execute_reply": "2024-05-01T17:09:26.447485Z",
     "shell.execute_reply.started": "2024-05-01T17:02:01.116310Z"
    },
    "papermill": {
     "duration": 0.054484,
     "end_time": "2024-05-01T17:09:26.448299",
     "exception": false,
     "start_time": "2024-05-01T17:09:26.393815",
     "status": "completed"
    },
    "tags": []
   },
   "outputs": [],
   "source": [
    "from sklearn.preprocessing import StandardScaler\n",
    "scaler = StandardScaler()\n",
    "\n",
    "X_train_trf = scaler.fit_transform(X_train)\n",
    "X_test_trf = scaler.transform(X_test)\n",
    "\n",
    "# X_train_scaled = scaler.fit_transform(X_train)\n",
    "# X_test_scaled = scaler.transform(X_test)"
   ]
  },
  {
   "cell_type": "code",
   "execution_count": 19,
   "id": "63540405",
   "metadata": {
    "execution": {
     "iopub.execute_input": "2024-05-01T17:09:26.528933Z",
     "iopub.status.busy": "2024-05-01T17:09:26.527981Z",
     "iopub.status.idle": "2024-05-01T17:09:26.532241Z",
     "shell.execute_reply": "2024-05-01T17:09:26.531653Z",
     "shell.execute_reply.started": "2024-05-01T17:02:01.994403Z"
    },
    "papermill": {
     "duration": 0.047127,
     "end_time": "2024-05-01T17:09:26.532419",
     "exception": false,
     "start_time": "2024-05-01T17:09:26.485292",
     "status": "completed"
    },
    "tags": []
   },
   "outputs": [
    {
     "data": {
      "text/plain": [
       "array([[ 0.16958176, -0.46460796,  0.00666099, ..., -0.5698444 ,\n",
       "         1.74309049, -1.09168714],\n",
       "       [-2.30455945,  0.30102557, -1.37744033, ...,  1.75486502,\n",
       "        -0.57369368,  0.91601335],\n",
       "       [-1.19119591, -0.94312892, -1.031415  , ..., -0.5698444 ,\n",
       "        -0.57369368, -1.09168714],\n",
       "       ...,\n",
       "       [ 0.9015152 , -0.36890377,  0.00666099, ..., -0.5698444 ,\n",
       "        -0.57369368,  0.91601335],\n",
       "       [-0.62420521, -0.08179119,  1.39076231, ..., -0.5698444 ,\n",
       "         1.74309049, -1.09168714],\n",
       "       [-0.28401079,  0.87525072, -1.37744033, ...,  1.75486502,\n",
       "        -0.57369368, -1.09168714]])"
      ]
     },
     "execution_count": 19,
     "metadata": {},
     "output_type": "execute_result"
    }
   ],
   "source": [
    "#scaled in values\n",
    "X_train_trf"
   ]
  },
  {
   "cell_type": "code",
   "execution_count": 20,
   "id": "de0b3bc5",
   "metadata": {
    "execution": {
     "iopub.execute_input": "2024-05-01T17:09:26.613863Z",
     "iopub.status.busy": "2024-05-01T17:09:26.612930Z",
     "iopub.status.idle": "2024-05-01T17:09:32.937366Z",
     "shell.execute_reply": "2024-05-01T17:09:32.936201Z",
     "shell.execute_reply.started": "2024-05-01T17:02:02.829691Z"
    },
    "papermill": {
     "duration": 6.366388,
     "end_time": "2024-05-01T17:09:32.937580",
     "exception": false,
     "start_time": "2024-05-01T17:09:26.571192",
     "status": "completed"
    },
    "tags": []
   },
   "outputs": [],
   "source": [
    "import tensorflow\n",
    "from tensorflow import keras\n",
    "from tensorflow.keras import Sequential \n",
    "from tensorflow.keras.layers import Dense"
   ]
  },
  {
   "cell_type": "code",
   "execution_count": 21,
   "id": "c4738c7e",
   "metadata": {
    "execution": {
     "iopub.execute_input": "2024-05-01T17:09:33.021862Z",
     "iopub.status.busy": "2024-05-01T17:09:33.020905Z",
     "iopub.status.idle": "2024-05-01T17:09:33.137339Z",
     "shell.execute_reply": "2024-05-01T17:09:33.137876Z",
     "shell.execute_reply.started": "2024-05-01T17:02:10.420092Z"
    },
    "papermill": {
     "duration": 0.161471,
     "end_time": "2024-05-01T17:09:33.138092",
     "exception": false,
     "start_time": "2024-05-01T17:09:32.976621",
     "status": "completed"
    },
    "tags": []
   },
   "outputs": [],
   "source": [
    "model = Sequential()\n",
    "\n",
    "#model.add(Dense(11,activation='sigmoid',input_dim=11))\n",
    "model.add(Dense(11,activation='relu',input_dim=11))# Finetune\n",
    "model.add(Dense(11,activation='sigmoid'))#Hidden Layer\n",
    "model.add(Dense(1,activation='sigmoid'))"
   ]
  },
  {
   "cell_type": "code",
   "execution_count": 22,
   "id": "60c1639e",
   "metadata": {
    "execution": {
     "iopub.execute_input": "2024-05-01T17:09:33.219223Z",
     "iopub.status.busy": "2024-05-01T17:09:33.218134Z",
     "iopub.status.idle": "2024-05-01T17:09:33.226566Z",
     "shell.execute_reply": "2024-05-01T17:09:33.225954Z",
     "shell.execute_reply.started": "2024-05-01T17:02:12.286719Z"
    },
    "papermill": {
     "duration": 0.04967,
     "end_time": "2024-05-01T17:09:33.226732",
     "exception": false,
     "start_time": "2024-05-01T17:09:33.177062",
     "status": "completed"
    },
    "tags": []
   },
   "outputs": [
    {
     "name": "stdout",
     "output_type": "stream",
     "text": [
      "Model: \"sequential\"\n",
      "_________________________________________________________________\n",
      "Layer (type)                 Output Shape              Param #   \n",
      "=================================================================\n",
      "dense (Dense)                (None, 11)                132       \n",
      "_________________________________________________________________\n",
      "dense_1 (Dense)              (None, 11)                132       \n",
      "_________________________________________________________________\n",
      "dense_2 (Dense)              (None, 1)                 12        \n",
      "=================================================================\n",
      "Total params: 276\n",
      "Trainable params: 276\n",
      "Non-trainable params: 0\n",
      "_________________________________________________________________\n"
     ]
    }
   ],
   "source": [
    "model.summary()"
   ]
  },
  {
   "cell_type": "code",
   "execution_count": 23,
   "id": "98dc9067",
   "metadata": {
    "execution": {
     "iopub.execute_input": "2024-05-01T17:09:33.312783Z",
     "iopub.status.busy": "2024-05-01T17:09:33.308260Z",
     "iopub.status.idle": "2024-05-01T17:09:33.320227Z",
     "shell.execute_reply": "2024-05-01T17:09:33.319506Z",
     "shell.execute_reply.started": "2024-05-01T17:02:20.673456Z"
    },
    "papermill": {
     "duration": 0.055389,
     "end_time": "2024-05-01T17:09:33.320399",
     "exception": false,
     "start_time": "2024-05-01T17:09:33.265010",
     "status": "completed"
    },
    "tags": []
   },
   "outputs": [],
   "source": [
    "model.compile(optimizer='Adam',loss='binary_crossentropy',metrics=['accuracy'])"
   ]
  },
  {
   "cell_type": "code",
   "execution_count": 24,
   "id": "4776e33c",
   "metadata": {
    "execution": {
     "iopub.execute_input": "2024-05-01T17:09:33.407750Z",
     "iopub.status.busy": "2024-05-01T17:09:33.406595Z",
     "iopub.status.idle": "2024-05-01T17:10:15.044541Z",
     "shell.execute_reply": "2024-05-01T17:10:15.045286Z",
     "shell.execute_reply.started": "2024-05-01T17:02:30.847761Z"
    },
    "papermill": {
     "duration": 41.685237,
     "end_time": "2024-05-01T17:10:15.045614",
     "exception": false,
     "start_time": "2024-05-01T17:09:33.360377",
     "status": "completed"
    },
    "tags": []
   },
   "outputs": [
    {
     "name": "stdout",
     "output_type": "stream",
     "text": [
      "Epoch 1/100\n",
      "128/128 [==============================] - 1s 4ms/step - loss: 0.5125 - accuracy: 0.7955 - val_loss: 0.5068 - val_accuracy: 0.7969\n",
      "Epoch 2/100\n",
      "128/128 [==============================] - 0s 2ms/step - loss: 0.5076 - accuracy: 0.7956 - val_loss: 0.5071 - val_accuracy: 0.7969\n",
      "Epoch 3/100\n",
      "128/128 [==============================] - 0s 2ms/step - loss: 0.5076 - accuracy: 0.7958 - val_loss: 0.5067 - val_accuracy: 0.7969\n",
      "Epoch 4/100\n",
      "128/128 [==============================] - 0s 2ms/step - loss: 0.5075 - accuracy: 0.7958 - val_loss: 0.5055 - val_accuracy: 0.7969\n",
      "Epoch 5/100\n",
      "128/128 [==============================] - 0s 2ms/step - loss: 0.5077 - accuracy: 0.7958 - val_loss: 0.5067 - val_accuracy: 0.7969\n",
      "Epoch 6/100\n",
      "128/128 [==============================] - 0s 2ms/step - loss: 0.5085 - accuracy: 0.7958 - val_loss: 0.5039 - val_accuracy: 0.7969\n",
      "Epoch 7/100\n",
      "128/128 [==============================] - 0s 2ms/step - loss: 0.5061 - accuracy: 0.7958 - val_loss: 0.5028 - val_accuracy: 0.7969\n",
      "Epoch 8/100\n",
      "128/128 [==============================] - 0s 2ms/step - loss: 0.5056 - accuracy: 0.7958 - val_loss: 0.5012 - val_accuracy: 0.7969\n",
      "Epoch 9/100\n",
      "128/128 [==============================] - 0s 2ms/step - loss: 0.5049 - accuracy: 0.7958 - val_loss: 0.5001 - val_accuracy: 0.7969\n",
      "Epoch 10/100\n",
      "128/128 [==============================] - 0s 2ms/step - loss: 0.5041 - accuracy: 0.7958 - val_loss: 0.4993 - val_accuracy: 0.7969\n",
      "Epoch 11/100\n",
      "128/128 [==============================] - 0s 2ms/step - loss: 0.5035 - accuracy: 0.7958 - val_loss: 0.4986 - val_accuracy: 0.7969\n",
      "Epoch 12/100\n",
      "128/128 [==============================] - 0s 2ms/step - loss: 0.5048 - accuracy: 0.7958 - val_loss: 0.5021 - val_accuracy: 0.7969\n",
      "Epoch 13/100\n",
      "128/128 [==============================] - 0s 2ms/step - loss: 0.5059 - accuracy: 0.7958 - val_loss: 0.5021 - val_accuracy: 0.7969\n",
      "Epoch 14/100\n",
      "128/128 [==============================] - 0s 2ms/step - loss: 0.5059 - accuracy: 0.7958 - val_loss: 0.5021 - val_accuracy: 0.7969\n",
      "Epoch 15/100\n",
      "128/128 [==============================] - 0s 2ms/step - loss: 0.5057 - accuracy: 0.7958 - val_loss: 0.5024 - val_accuracy: 0.7969\n",
      "Epoch 16/100\n",
      "128/128 [==============================] - 0s 2ms/step - loss: 0.5058 - accuracy: 0.7958 - val_loss: 0.5022 - val_accuracy: 0.7969\n",
      "Epoch 17/100\n",
      "128/128 [==============================] - 0s 2ms/step - loss: 0.5056 - accuracy: 0.7958 - val_loss: 0.5023 - val_accuracy: 0.7969\n",
      "Epoch 18/100\n",
      "128/128 [==============================] - 0s 2ms/step - loss: 0.5057 - accuracy: 0.7958 - val_loss: 0.5024 - val_accuracy: 0.7969\n",
      "Epoch 19/100\n",
      "128/128 [==============================] - 0s 2ms/step - loss: 0.5062 - accuracy: 0.7958 - val_loss: 0.5021 - val_accuracy: 0.7969\n",
      "Epoch 20/100\n",
      "128/128 [==============================] - 0s 2ms/step - loss: 0.5059 - accuracy: 0.7958 - val_loss: 0.5018 - val_accuracy: 0.7969\n",
      "Epoch 21/100\n",
      "128/128 [==============================] - 0s 2ms/step - loss: 0.5059 - accuracy: 0.7958 - val_loss: 0.5018 - val_accuracy: 0.7969\n",
      "Epoch 22/100\n",
      "128/128 [==============================] - 0s 2ms/step - loss: 0.5058 - accuracy: 0.7958 - val_loss: 0.5016 - val_accuracy: 0.7969\n",
      "Epoch 23/100\n",
      "128/128 [==============================] - 0s 2ms/step - loss: 0.5058 - accuracy: 0.7958 - val_loss: 0.5019 - val_accuracy: 0.7969\n",
      "Epoch 24/100\n",
      "128/128 [==============================] - 0s 3ms/step - loss: 0.5058 - accuracy: 0.7958 - val_loss: 0.5025 - val_accuracy: 0.7969\n",
      "Epoch 25/100\n",
      "128/128 [==============================] - 0s 2ms/step - loss: 0.5061 - accuracy: 0.7958 - val_loss: 0.5021 - val_accuracy: 0.7969\n",
      "Epoch 26/100\n",
      "128/128 [==============================] - 0s 2ms/step - loss: 0.5062 - accuracy: 0.7958 - val_loss: 0.5021 - val_accuracy: 0.7969\n",
      "Epoch 27/100\n",
      "128/128 [==============================] - 0s 2ms/step - loss: 0.5060 - accuracy: 0.7958 - val_loss: 0.5025 - val_accuracy: 0.7969\n",
      "Epoch 28/100\n",
      "128/128 [==============================] - 0s 2ms/step - loss: 0.5062 - accuracy: 0.7958 - val_loss: 0.5021 - val_accuracy: 0.7969\n",
      "Epoch 29/100\n",
      "128/128 [==============================] - 0s 2ms/step - loss: 0.5061 - accuracy: 0.7958 - val_loss: 0.5021 - val_accuracy: 0.7969\n",
      "Epoch 30/100\n",
      "128/128 [==============================] - 0s 2ms/step - loss: 0.5061 - accuracy: 0.7958 - val_loss: 0.5021 - val_accuracy: 0.7969\n",
      "Epoch 31/100\n",
      "128/128 [==============================] - 0s 2ms/step - loss: 0.5062 - accuracy: 0.7958 - val_loss: 0.5021 - val_accuracy: 0.7969\n",
      "Epoch 32/100\n",
      "128/128 [==============================] - 0s 2ms/step - loss: 0.5061 - accuracy: 0.7958 - val_loss: 0.5025 - val_accuracy: 0.7969\n",
      "Epoch 33/100\n",
      "128/128 [==============================] - 0s 2ms/step - loss: 0.5062 - accuracy: 0.7958 - val_loss: 0.5022 - val_accuracy: 0.7969\n",
      "Epoch 34/100\n",
      "128/128 [==============================] - 0s 2ms/step - loss: 0.5059 - accuracy: 0.7958 - val_loss: 0.5025 - val_accuracy: 0.7969\n",
      "Epoch 35/100\n",
      "128/128 [==============================] - 0s 2ms/step - loss: 0.5063 - accuracy: 0.7958 - val_loss: 0.5021 - val_accuracy: 0.7969\n",
      "Epoch 36/100\n",
      "128/128 [==============================] - 0s 2ms/step - loss: 0.5063 - accuracy: 0.7958 - val_loss: 0.5022 - val_accuracy: 0.7969\n",
      "Epoch 37/100\n",
      "128/128 [==============================] - 0s 3ms/step - loss: 0.5062 - accuracy: 0.7958 - val_loss: 0.5021 - val_accuracy: 0.7969\n",
      "Epoch 38/100\n",
      "128/128 [==============================] - 0s 3ms/step - loss: 0.5060 - accuracy: 0.7958 - val_loss: 0.5020 - val_accuracy: 0.7969\n",
      "Epoch 39/100\n",
      "128/128 [==============================] - 0s 2ms/step - loss: 0.5061 - accuracy: 0.7958 - val_loss: 0.5019 - val_accuracy: 0.7969\n",
      "Epoch 40/100\n",
      "128/128 [==============================] - 0s 2ms/step - loss: 0.5056 - accuracy: 0.7958 - val_loss: 0.5018 - val_accuracy: 0.7969\n",
      "Epoch 41/100\n",
      "128/128 [==============================] - 0s 2ms/step - loss: 0.5058 - accuracy: 0.7958 - val_loss: 0.5017 - val_accuracy: 0.7969\n",
      "Epoch 42/100\n",
      "128/128 [==============================] - 0s 2ms/step - loss: 0.5058 - accuracy: 0.7958 - val_loss: 0.5016 - val_accuracy: 0.7969\n",
      "Epoch 43/100\n",
      "128/128 [==============================] - 0s 2ms/step - loss: 0.5056 - accuracy: 0.7958 - val_loss: 0.5016 - val_accuracy: 0.7969\n",
      "Epoch 44/100\n",
      "128/128 [==============================] - 0s 2ms/step - loss: 0.5055 - accuracy: 0.7958 - val_loss: 0.5017 - val_accuracy: 0.7969\n",
      "Epoch 45/100\n",
      "128/128 [==============================] - 0s 2ms/step - loss: 0.5051 - accuracy: 0.7958 - val_loss: 0.5020 - val_accuracy: 0.7969\n",
      "Epoch 46/100\n",
      "128/128 [==============================] - 0s 2ms/step - loss: 0.5049 - accuracy: 0.7958 - val_loss: 0.5028 - val_accuracy: 0.7969\n",
      "Epoch 47/100\n",
      "128/128 [==============================] - 0s 2ms/step - loss: 0.5046 - accuracy: 0.7958 - val_loss: 0.5022 - val_accuracy: 0.7969\n",
      "Epoch 48/100\n",
      "128/128 [==============================] - 0s 2ms/step - loss: 0.5044 - accuracy: 0.7958 - val_loss: 0.5016 - val_accuracy: 0.7969\n",
      "Epoch 49/100\n",
      "128/128 [==============================] - 0s 2ms/step - loss: 0.5053 - accuracy: 0.7958 - val_loss: 0.5014 - val_accuracy: 0.7969\n",
      "Epoch 50/100\n",
      "128/128 [==============================] - 0s 2ms/step - loss: 0.5052 - accuracy: 0.7958 - val_loss: 0.5017 - val_accuracy: 0.7969\n",
      "Epoch 51/100\n",
      "128/128 [==============================] - 0s 2ms/step - loss: 0.5052 - accuracy: 0.7958 - val_loss: 0.5016 - val_accuracy: 0.7969\n",
      "Epoch 52/100\n",
      "128/128 [==============================] - 0s 2ms/step - loss: 0.5052 - accuracy: 0.7958 - val_loss: 0.5016 - val_accuracy: 0.7969\n",
      "Epoch 53/100\n",
      "128/128 [==============================] - 0s 3ms/step - loss: 0.5051 - accuracy: 0.7958 - val_loss: 0.5015 - val_accuracy: 0.7969\n",
      "Epoch 54/100\n",
      "128/128 [==============================] - 0s 2ms/step - loss: 0.5049 - accuracy: 0.7958 - val_loss: 0.5017 - val_accuracy: 0.7969\n",
      "Epoch 55/100\n",
      "128/128 [==============================] - 0s 2ms/step - loss: 0.5054 - accuracy: 0.7958 - val_loss: 0.5018 - val_accuracy: 0.7969\n",
      "Epoch 56/100\n",
      "128/128 [==============================] - 0s 2ms/step - loss: 0.5054 - accuracy: 0.7958 - val_loss: 0.5018 - val_accuracy: 0.7969\n",
      "Epoch 57/100\n",
      "128/128 [==============================] - 0s 2ms/step - loss: 0.5052 - accuracy: 0.7958 - val_loss: 0.5017 - val_accuracy: 0.7969\n",
      "Epoch 58/100\n",
      "128/128 [==============================] - 0s 3ms/step - loss: 0.5052 - accuracy: 0.7958 - val_loss: 0.5017 - val_accuracy: 0.7969\n",
      "Epoch 59/100\n",
      "128/128 [==============================] - 0s 2ms/step - loss: 0.5053 - accuracy: 0.7958 - val_loss: 0.5017 - val_accuracy: 0.7969\n",
      "Epoch 60/100\n",
      "128/128 [==============================] - 0s 2ms/step - loss: 0.5052 - accuracy: 0.7958 - val_loss: 0.5018 - val_accuracy: 0.7969\n",
      "Epoch 61/100\n",
      "128/128 [==============================] - 0s 3ms/step - loss: 0.5052 - accuracy: 0.7958 - val_loss: 0.5017 - val_accuracy: 0.7969\n",
      "Epoch 62/100\n",
      "128/128 [==============================] - 0s 2ms/step - loss: 0.5053 - accuracy: 0.7958 - val_loss: 0.5017 - val_accuracy: 0.7969\n",
      "Epoch 63/100\n",
      "128/128 [==============================] - 0s 2ms/step - loss: 0.5052 - accuracy: 0.7958 - val_loss: 0.5017 - val_accuracy: 0.7969\n",
      "Epoch 64/100\n",
      "128/128 [==============================] - 0s 2ms/step - loss: 0.5051 - accuracy: 0.7958 - val_loss: 0.5019 - val_accuracy: 0.7969\n",
      "Epoch 65/100\n",
      "128/128 [==============================] - 0s 2ms/step - loss: 0.5053 - accuracy: 0.7958 - val_loss: 0.5019 - val_accuracy: 0.7969\n",
      "Epoch 66/100\n",
      "128/128 [==============================] - 0s 2ms/step - loss: 0.5052 - accuracy: 0.7958 - val_loss: 0.5019 - val_accuracy: 0.7969\n",
      "Epoch 67/100\n",
      "128/128 [==============================] - 0s 2ms/step - loss: 0.5052 - accuracy: 0.7958 - val_loss: 0.5017 - val_accuracy: 0.7969\n",
      "Epoch 68/100\n",
      "128/128 [==============================] - 0s 2ms/step - loss: 0.5052 - accuracy: 0.7958 - val_loss: 0.5018 - val_accuracy: 0.7969\n",
      "Epoch 69/100\n",
      "128/128 [==============================] - 0s 2ms/step - loss: 0.5052 - accuracy: 0.7958 - val_loss: 0.5021 - val_accuracy: 0.7969\n",
      "Epoch 70/100\n",
      "128/128 [==============================] - 0s 2ms/step - loss: 0.5053 - accuracy: 0.7958 - val_loss: 0.5018 - val_accuracy: 0.7969\n",
      "Epoch 71/100\n",
      "128/128 [==============================] - 0s 2ms/step - loss: 0.5052 - accuracy: 0.7958 - val_loss: 0.5018 - val_accuracy: 0.7969\n",
      "Epoch 72/100\n",
      "128/128 [==============================] - 0s 2ms/step - loss: 0.5053 - accuracy: 0.7958 - val_loss: 0.5021 - val_accuracy: 0.7969\n",
      "Epoch 73/100\n",
      "128/128 [==============================] - 0s 2ms/step - loss: 0.5052 - accuracy: 0.7958 - val_loss: 0.5018 - val_accuracy: 0.7969\n",
      "Epoch 74/100\n",
      "128/128 [==============================] - 0s 2ms/step - loss: 0.5053 - accuracy: 0.7958 - val_loss: 0.5020 - val_accuracy: 0.7969\n",
      "Epoch 75/100\n",
      "128/128 [==============================] - 0s 2ms/step - loss: 0.5052 - accuracy: 0.7958 - val_loss: 0.5018 - val_accuracy: 0.7969\n",
      "Epoch 76/100\n",
      "128/128 [==============================] - 0s 2ms/step - loss: 0.5052 - accuracy: 0.7958 - val_loss: 0.5017 - val_accuracy: 0.7969\n",
      "Epoch 77/100\n",
      "128/128 [==============================] - 0s 2ms/step - loss: 0.5052 - accuracy: 0.7958 - val_loss: 0.5018 - val_accuracy: 0.7969\n",
      "Epoch 78/100\n",
      "128/128 [==============================] - 0s 2ms/step - loss: 0.5054 - accuracy: 0.7958 - val_loss: 0.5017 - val_accuracy: 0.7969\n",
      "Epoch 79/100\n",
      "128/128 [==============================] - 0s 2ms/step - loss: 0.5051 - accuracy: 0.7958 - val_loss: 0.5018 - val_accuracy: 0.7969\n",
      "Epoch 80/100\n",
      "128/128 [==============================] - 0s 2ms/step - loss: 0.5056 - accuracy: 0.7958 - val_loss: 0.5269 - val_accuracy: 0.7969\n",
      "Epoch 81/100\n",
      "128/128 [==============================] - 0s 2ms/step - loss: 0.5101 - accuracy: 0.7958 - val_loss: 0.4976 - val_accuracy: 0.7969\n",
      "Epoch 82/100\n",
      "128/128 [==============================] - 0s 3ms/step - loss: 0.5048 - accuracy: 0.7958 - val_loss: 0.5004 - val_accuracy: 0.7969\n",
      "Epoch 83/100\n",
      "128/128 [==============================] - 1s 4ms/step - loss: 0.5054 - accuracy: 0.7958 - val_loss: 0.5005 - val_accuracy: 0.7969\n",
      "Epoch 84/100\n",
      "128/128 [==============================] - 0s 3ms/step - loss: 0.5054 - accuracy: 0.7958 - val_loss: 0.5006 - val_accuracy: 0.7969\n",
      "Epoch 85/100\n",
      "128/128 [==============================] - 0s 2ms/step - loss: 0.5056 - accuracy: 0.7958 - val_loss: 0.5007 - val_accuracy: 0.7969\n",
      "Epoch 86/100\n",
      "128/128 [==============================] - 0s 2ms/step - loss: 0.5054 - accuracy: 0.7958 - val_loss: 0.5006 - val_accuracy: 0.7969\n",
      "Epoch 87/100\n",
      "128/128 [==============================] - 0s 2ms/step - loss: 0.5054 - accuracy: 0.7958 - val_loss: 0.5007 - val_accuracy: 0.7969\n",
      "Epoch 88/100\n",
      "128/128 [==============================] - 0s 2ms/step - loss: 0.5054 - accuracy: 0.7958 - val_loss: 0.5010 - val_accuracy: 0.7969\n",
      "Epoch 89/100\n",
      "128/128 [==============================] - 0s 2ms/step - loss: 0.5054 - accuracy: 0.7958 - val_loss: 0.5010 - val_accuracy: 0.7969\n",
      "Epoch 90/100\n",
      "128/128 [==============================] - 0s 2ms/step - loss: 0.5054 - accuracy: 0.7958 - val_loss: 0.5008 - val_accuracy: 0.7969\n",
      "Epoch 91/100\n",
      "128/128 [==============================] - 0s 3ms/step - loss: 0.5053 - accuracy: 0.7958 - val_loss: 0.5009 - val_accuracy: 0.7969\n",
      "Epoch 92/100\n",
      "128/128 [==============================] - 0s 2ms/step - loss: 0.5053 - accuracy: 0.7958 - val_loss: 0.5008 - val_accuracy: 0.7969\n",
      "Epoch 93/100\n",
      "128/128 [==============================] - 0s 2ms/step - loss: 0.5053 - accuracy: 0.7958 - val_loss: 0.5009 - val_accuracy: 0.7969\n",
      "Epoch 94/100\n",
      "128/128 [==============================] - 0s 2ms/step - loss: 0.5054 - accuracy: 0.7958 - val_loss: 0.5009 - val_accuracy: 0.7969\n",
      "Epoch 95/100\n",
      "128/128 [==============================] - 0s 2ms/step - loss: 0.5053 - accuracy: 0.7958 - val_loss: 0.5010 - val_accuracy: 0.7969\n",
      "Epoch 96/100\n",
      "128/128 [==============================] - 0s 2ms/step - loss: 0.5054 - accuracy: 0.7958 - val_loss: 0.5013 - val_accuracy: 0.7969\n",
      "Epoch 97/100\n",
      "128/128 [==============================] - 0s 2ms/step - loss: 0.5054 - accuracy: 0.7958 - val_loss: 0.5010 - val_accuracy: 0.7969\n",
      "Epoch 98/100\n",
      "128/128 [==============================] - 0s 2ms/step - loss: 0.5053 - accuracy: 0.7958 - val_loss: 0.5010 - val_accuracy: 0.7969\n",
      "Epoch 99/100\n",
      "128/128 [==============================] - 0s 2ms/step - loss: 0.5054 - accuracy: 0.7958 - val_loss: 0.5010 - val_accuracy: 0.7969\n",
      "Epoch 100/100\n",
      "128/128 [==============================] - 0s 2ms/step - loss: 0.5053 - accuracy: 0.7958 - val_loss: 0.5011 - val_accuracy: 0.7969\n"
     ]
    }
   ],
   "source": [
    "history = model.fit(X_train,y_train,batch_size=50,epochs=100,verbose=1,validation_split=0.2)"
   ]
  },
  {
   "cell_type": "code",
   "execution_count": 25,
   "id": "b52e7ad5",
   "metadata": {
    "execution": {
     "iopub.execute_input": "2024-05-01T17:10:15.562297Z",
     "iopub.status.busy": "2024-05-01T17:10:15.561461Z",
     "iopub.status.idle": "2024-05-01T17:10:15.567773Z",
     "shell.execute_reply": "2024-05-01T17:10:15.568284Z",
     "shell.execute_reply.started": "2024-05-01T17:03:53.530499Z"
    },
    "papermill": {
     "duration": 0.266396,
     "end_time": "2024-05-01T17:10:15.568504",
     "exception": false,
     "start_time": "2024-05-01T17:10:15.302108",
     "status": "completed"
    },
    "tags": []
   },
   "outputs": [
    {
     "data": {
      "text/plain": [
       "[array([[-0.09946914,  0.2618553 , -0.33063143, -0.17270315,  0.45127892,\n",
       "          0.23475002, -0.21204443,  0.5216848 , -0.05805405,  0.02025515,\n",
       "          0.10000782],\n",
       "        [ 0.15677583,  0.05009103,  0.22551131, -0.23518464,  0.3088143 ,\n",
       "         -0.24875686,  0.15094751, -0.22825566,  0.12575865, -0.33448648,\n",
       "          0.24214077],\n",
       "        [ 0.2868566 ,  0.31083602, -0.15613398,  0.12921864,  0.51319796,\n",
       "          0.11426321, -0.15965872,  0.43347633, -0.5079602 ,  0.00947756,\n",
       "         -0.08565428],\n",
       "        [ 0.0476257 ,  0.27344126,  0.3034067 ,  0.24056882, -0.15727025,\n",
       "          0.46067414, -0.06930552,  0.32134998, -0.2623728 , -0.02959567,\n",
       "         -0.03886341],\n",
       "        [ 0.53366464,  0.11766765, -0.0953204 ,  0.3020947 ,  0.43536156,\n",
       "          0.1961442 ,  0.02133451, -0.28065735, -0.10902759, -0.17812106,\n",
       "          0.11757973],\n",
       "        [-0.5423952 ,  0.11357819,  0.5587519 ,  0.37223834,  0.47232026,\n",
       "          0.23163311,  0.4462593 , -0.05132166,  0.25588614, -0.16917527,\n",
       "         -0.23715636],\n",
       "        [-0.12368926, -0.2434401 ,  0.00749157,  0.22354186, -0.01859981,\n",
       "         -0.37385187,  0.5715616 ,  0.48617548, -0.33895624, -0.19465041,\n",
       "          0.31441355],\n",
       "        [ 0.26437825, -0.4006433 , -0.45667642,  0.44981802,  0.05540586,\n",
       "         -0.40818948,  0.47995955,  0.3308823 ,  0.09171635, -0.11058944,\n",
       "          0.27893186],\n",
       "        [-0.1500792 ,  0.40947616, -0.3271804 ,  0.17505914, -0.32828167,\n",
       "          0.0316732 , -0.3924508 ,  0.01955777,  0.2631902 , -0.20891887,\n",
       "          0.04101387],\n",
       "        [ 0.26969817, -0.04868878,  0.7512304 ,  0.15762836,  0.40248805,\n",
       "         -0.41251478, -0.27277082,  0.18632787, -0.3545244 , -0.13996536,\n",
       "         -0.5463129 ],\n",
       "        [ 0.14257312, -0.27927917, -0.09875327,  0.49121147,  0.4377519 ,\n",
       "          0.01202883,  0.28257632, -0.10356945, -0.3148417 , -0.45664755,\n",
       "          0.12515312]], dtype=float32),\n",
       " array([ 0.1452125 ,  0.10827939,  0.28563076,  0.        ,  0.        ,\n",
       "        -0.00956325,  0.20574577,  0.        , -0.03043656,  0.        ,\n",
       "        -0.05523204], dtype=float32)]"
      ]
     },
     "execution_count": 25,
     "metadata": {},
     "output_type": "execute_result"
    }
   ],
   "source": [
    "model.layers[1].get_weights()"
   ]
  },
  {
   "cell_type": "code",
   "execution_count": 26,
   "id": "23fe7b85",
   "metadata": {
    "execution": {
     "iopub.execute_input": "2024-05-01T17:10:16.084584Z",
     "iopub.status.busy": "2024-05-01T17:10:16.083769Z",
     "iopub.status.idle": "2024-05-01T17:10:16.091954Z",
     "shell.execute_reply": "2024-05-01T17:10:16.092509Z",
     "shell.execute_reply.started": "2024-05-01T17:03:53.549924Z"
    },
    "papermill": {
     "duration": 0.26886,
     "end_time": "2024-05-01T17:10:16.092731",
     "exception": false,
     "start_time": "2024-05-01T17:10:15.823871",
     "status": "completed"
    },
    "tags": []
   },
   "outputs": [
    {
     "data": {
      "text/plain": [
       "[array([[ 0.1458504 , -0.14491126, -0.23761699,  0.4827544 , -0.2031047 ,\n",
       "          0.27818993,  0.02158214, -0.20287901, -0.19595613,  0.36151573,\n",
       "          0.3808387 ],\n",
       "        [-0.35408777, -0.08740941, -0.1798268 , -0.04456476,  0.3580989 ,\n",
       "         -0.1876263 ,  0.5049489 ,  0.27877998,  0.3545165 ,  0.24181361,\n",
       "          0.24004385],\n",
       "        [-0.37365162, -0.47782084, -0.68082374,  0.03237375, -0.45621544,\n",
       "          0.27362984,  0.37925893, -0.06808072, -0.27439308, -0.241575  ,\n",
       "         -0.19300658],\n",
       "        [ 0.22322145, -0.04295209,  0.16684285, -0.19546023, -0.15460414,\n",
       "          0.3428368 ,  0.12300079, -0.20316663,  0.16043927, -0.05902648,\n",
       "         -0.13968968],\n",
       "        [-0.42883572,  0.2769457 , -0.46558627, -0.06724797,  0.34712976,\n",
       "          0.51722693,  0.22715336,  0.2569977 , -0.47734454, -0.33570457,\n",
       "          0.06368354],\n",
       "        [-0.50525934, -0.20470956, -0.36765262, -0.38501126,  0.21582772,\n",
       "          0.63471645,  0.00511773,  0.14301783,  0.4309804 , -0.42210424,\n",
       "         -0.07611129],\n",
       "        [-0.4222261 , -0.25368187, -0.11346774,  0.42623737,  0.03693238,\n",
       "          0.47152433,  0.37785205,  0.466061  , -0.577632  ,  0.34090012,\n",
       "         -0.16770267],\n",
       "        [-0.50893736, -0.44466656,  0.44078323, -0.16532767,  0.3429773 ,\n",
       "         -0.0487235 ,  0.32619554, -0.48011756, -0.40915468,  0.33285862,\n",
       "         -0.53715855],\n",
       "        [-0.11747056, -0.44938412, -0.2873467 ,  0.47983283, -0.14669997,\n",
       "          0.45940366,  0.10968208,  0.34174645, -0.44535476,  0.31191936,\n",
       "          0.03868997],\n",
       "        [-0.1655883 ,  0.17638737, -0.01357051,  0.51675373,  0.46346655,\n",
       "          0.30614755, -0.1508233 ,  0.4864518 ,  0.28846857, -0.43075615,\n",
       "          0.10977507],\n",
       "        [-0.41024777, -0.5188305 , -0.30562997, -0.26754662,  0.32088518,\n",
       "          0.5305496 , -0.2534898 ,  0.17807376,  0.10794777, -0.27740604,\n",
       "          0.30856568]], dtype=float32),\n",
       " array([-0.0540584 ,  0.        , -0.16374442,  0.00724927,  0.00495238,\n",
       "         0.18930006,  0.07967316,  0.        , -0.06053477,  0.05412624,\n",
       "        -0.09584334], dtype=float32)]"
      ]
     },
     "execution_count": 26,
     "metadata": {},
     "output_type": "execute_result"
    }
   ],
   "source": [
    "model.layers[0].get_weights()"
   ]
  },
  {
   "cell_type": "code",
   "execution_count": 27,
   "id": "f5590b22",
   "metadata": {
    "execution": {
     "iopub.execute_input": "2024-05-01T17:10:16.616099Z",
     "iopub.status.busy": "2024-05-01T17:10:16.615351Z",
     "iopub.status.idle": "2024-05-01T17:10:16.825512Z",
     "shell.execute_reply": "2024-05-01T17:10:16.826051Z",
     "shell.execute_reply.started": "2024-05-01T17:08:30.285684Z"
    },
    "papermill": {
     "duration": 0.475883,
     "end_time": "2024-05-01T17:10:16.826261",
     "exception": false,
     "start_time": "2024-05-01T17:10:16.350378",
     "status": "completed"
    },
    "tags": []
   },
   "outputs": [],
   "source": [
    "y_pred = model.predict(X_test)"
   ]
  },
  {
   "cell_type": "code",
   "execution_count": 28,
   "id": "9e43f1c9",
   "metadata": {
    "execution": {
     "iopub.execute_input": "2024-05-01T17:10:17.344676Z",
     "iopub.status.busy": "2024-05-01T17:10:17.343939Z",
     "iopub.status.idle": "2024-05-01T17:10:17.347113Z",
     "shell.execute_reply": "2024-05-01T17:10:17.347604Z",
     "shell.execute_reply.started": "2024-05-01T17:08:31.377686Z"
    },
    "papermill": {
     "duration": 0.267886,
     "end_time": "2024-05-01T17:10:17.347812",
     "exception": false,
     "start_time": "2024-05-01T17:10:17.079926",
     "status": "completed"
    },
    "tags": []
   },
   "outputs": [
    {
     "data": {
      "text/plain": [
       "array([[0.19788715],\n",
       "       [0.19788715],\n",
       "       [0.19788715],\n",
       "       ...,\n",
       "       [0.19788715],\n",
       "       [0.25210178],\n",
       "       [0.19788715]], dtype=float32)"
      ]
     },
     "execution_count": 28,
     "metadata": {},
     "output_type": "execute_result"
    }
   ],
   "source": [
    "y_pred"
   ]
  },
  {
   "cell_type": "code",
   "execution_count": 29,
   "id": "6c650375",
   "metadata": {
    "execution": {
     "iopub.execute_input": "2024-05-01T17:10:17.863015Z",
     "iopub.status.busy": "2024-05-01T17:10:17.862254Z",
     "iopub.status.idle": "2024-05-01T17:10:17.865275Z",
     "shell.execute_reply": "2024-05-01T17:10:17.864734Z",
     "shell.execute_reply.started": "2024-05-01T17:08:33.402020Z"
    },
    "papermill": {
     "duration": 0.261217,
     "end_time": "2024-05-01T17:10:17.865462",
     "exception": false,
     "start_time": "2024-05-01T17:10:17.604245",
     "status": "completed"
    },
    "tags": []
   },
   "outputs": [],
   "source": [
    "y_pred = y_pred.argmax(axis=-1)"
   ]
  },
  {
   "cell_type": "code",
   "execution_count": 30,
   "id": "71312664",
   "metadata": {
    "execution": {
     "iopub.execute_input": "2024-05-01T17:10:18.384329Z",
     "iopub.status.busy": "2024-05-01T17:10:18.383236Z",
     "iopub.status.idle": "2024-05-01T17:10:18.389527Z",
     "shell.execute_reply": "2024-05-01T17:10:18.388906Z",
     "shell.execute_reply.started": "2024-05-01T17:08:34.638072Z"
    },
    "papermill": {
     "duration": 0.265309,
     "end_time": "2024-05-01T17:10:18.389695",
     "exception": false,
     "start_time": "2024-05-01T17:10:18.124386",
     "status": "completed"
    },
    "tags": []
   },
   "outputs": [
    {
     "data": {
      "text/plain": [
       "0.7975"
      ]
     },
     "execution_count": 30,
     "metadata": {},
     "output_type": "execute_result"
    }
   ],
   "source": [
    "from sklearn.metrics import accuracy_score\n",
    "accuracy_score(y_test,y_pred)"
   ]
  },
  {
   "cell_type": "code",
   "execution_count": 31,
   "id": "bd2b1ceb",
   "metadata": {
    "execution": {
     "iopub.execute_input": "2024-05-01T17:10:18.909632Z",
     "iopub.status.busy": "2024-05-01T17:10:18.908367Z",
     "iopub.status.idle": "2024-05-01T17:10:19.104708Z",
     "shell.execute_reply": "2024-05-01T17:10:19.103993Z",
     "shell.execute_reply.started": "2024-05-01T17:08:39.070275Z"
    },
    "papermill": {
     "duration": 0.462302,
     "end_time": "2024-05-01T17:10:19.104870",
     "exception": false,
     "start_time": "2024-05-01T17:10:18.642568",
     "status": "completed"
    },
    "tags": []
   },
   "outputs": [
    {
     "data": {
      "text/plain": [
       "[<matplotlib.lines.Line2D at 0x7bd1746e8b50>]"
      ]
     },
     "execution_count": 31,
     "metadata": {},
     "output_type": "execute_result"
    },
    {
     "data": {
      "image/png": "[encoded data removed]",
      "text/plain": [
       "<Figure size 432x288 with 1 Axes>"
      ]
     },
     "metadata": {
      "needs_background": "light"
     },
     "output_type": "display_data"
    }
   ],
   "source": [
    "import matplotlib.pyplot as plt\n",
    "\n",
    "plt.plot(history.history['loss'])\n",
    "plt.plot(history.history['val_loss'])"
   ]
  },
  {
   "cell_type": "code",
   "execution_count": 32,
   "id": "b973f502",
   "metadata": {
    "execution": {
     "iopub.execute_input": "2024-05-01T17:10:19.625293Z",
     "iopub.status.busy": "2024-05-01T17:10:19.624569Z",
     "iopub.status.idle": "2024-05-01T17:10:19.789342Z",
     "shell.execute_reply": "2024-05-01T17:10:19.788291Z",
     "shell.execute_reply.started": "2024-05-01T17:08:43.105275Z"
    },
    "papermill": {
     "duration": 0.425855,
     "end_time": "2024-05-01T17:10:19.789508",
     "exception": false,
     "start_time": "2024-05-01T17:10:19.363653",
     "status": "completed"
    },
    "tags": []
   },
   "outputs": [
    {
     "data": {
      "text/plain": [
       "[<matplotlib.lines.Line2D at 0x7bd16d536a50>]"
      ]
     },
     "execution_count": 32,
     "metadata": {},
     "output_type": "execute_result"
    },
    {
     "data": {
      "image/png": "[encoded data removed]",
      "text/plain": [
       "<Figure size 432x288 with 1 Axes>"
      ]
     },
     "metadata": {
      "needs_background": "light"
     },
     "output_type": "display_data"
    }
   ],
   "source": [
    "plt.plot(history.history['accuracy'])\n",
    "plt.plot(history.history['val_accuracy'])"
   ]
  },
  {
   "cell_type": "code",
   "execution_count": null,
   "id": "bd423215",
   "metadata": {
    "papermill": {
     "duration": 0.257047,
     "end_time": "2024-05-01T17:10:20.304222",
     "exception": false,
     "start_time": "2024-05-01T17:10:20.047175",
     "status": "completed"
    },
    "tags": []
   },
   "outputs": [],
   "source": []
  }
 ],
 "metadata": {
  "kaggle": {
   "accelerator": "none",
   "dataSources": [
    {
     "datasetId": 869651,
     "sourceId": 1481789,
     "sourceType": "datasetVersion"
    }
   ],
   "dockerImageVersionId": 30170,
   "isGpuEnabled": false,
   "isInternetEnabled": false,
   "language": "python",
   "sourceType": "notebook"
  },
  "kernelspec": {
   "display_name": "Python 3",
   "language": "python",
   "name": "python3"
  },
  "language_info": {
   "codemirror_mode": {
    "name": "ipython",
    "version": 3
   },
   "file_extension": ".py",
   "mimetype": "text/x-python",
   "name": "python",
   "nbconvert_exporter": "python",
   "pygments_lexer": "ipython3",
   "version": "3.7.12"
  },
  "papermill": {
   "default_parameters": {},
   "duration": 70.74785,
   "end_time": "2024-05-01T17:10:23.992785",
   "environment_variables": {},
   "exception": null,
   "input_path": "__notebook__.ipynb",
   "output_path": "__notebook__.ipynb",
   "parameters": {},
   "start_time": "2024-05-01T17:09:13.244935",
   "version": "2.3.3"
  }
 },
 "nbformat": 4,
 "nbformat_minor": 5
}
